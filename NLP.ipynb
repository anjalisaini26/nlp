{
 "cells": [
  {
   "cell_type": "code",
   "execution_count": 64,
   "id": "072a9ad7",
   "metadata": {},
   "outputs": [],
   "source": [
    "###pip install NLTK"
   ]
  },
  {
   "cell_type": "code",
   "execution_count": 1,
   "id": "63f60cc1",
   "metadata": {},
   "outputs": [],
   "source": [
    "import nltk"
   ]
  },
  {
   "cell_type": "markdown",
   "id": "75823121",
   "metadata": {},
   "source": [
    "#open the text file:"
   ]
  },
  {
   "cell_type": "code",
   "execution_count": 2,
   "id": "816106e3",
   "metadata": {},
   "outputs": [],
   "source": [
    "text_file= open(\"C:/Users/admin/Downloads/Natural_language_processing_text.txt\")"
   ]
  },
  {
   "cell_type": "code",
   "execution_count": 3,
   "id": "a1dd144d",
   "metadata": {},
   "outputs": [],
   "source": [
    "#read the data:\n",
    "text = text_file.read()"
   ]
  },
  {
   "cell_type": "code",
   "execution_count": 4,
   "id": "dc8eec31",
   "metadata": {},
   "outputs": [
    {
     "name": "stdout",
     "output_type": "stream",
     "text": [
      "<class 'str'>\n",
      "\n",
      "\n"
     ]
    }
   ],
   "source": [
    "#datatype of the data read:\n",
    "print(type(text))\n",
    "print(\"\\n\")"
   ]
  },
  {
   "cell_type": "code",
   "execution_count": 5,
   "id": "df41a140",
   "metadata": {},
   "outputs": [
    {
     "name": "stdout",
     "output_type": "stream",
     "text": [
      "Once upon a time there was an old mother pig who had three little pigs and not enough food to feed them. So when they were old enough, she sent them out into the world to seek their fortunes.\n",
      "\n",
      "The first little pig was very lazy. He didn't want to work at all and he built his house out of straw. The second little pig worked a little bit harder but he was somewhat lazy too and he built his house out of sticks. Then, they sang and danced and played together the rest of the day.\n",
      "\n",
      "The third little pig worked hard all day and built his house with bricks. It was a sturdy house complete with a fine fireplace and chimney. It looked like it could withstand the strongest winds.\n",
      "\n",
      "The next day, a wolf happened to pass by the lane where the three little pigs lived; and he saw the straw house, and he smelled the pig inside. He thought the pig would make a mighty fine meal and his mouth began to water.\n",
      "\n",
      "\n"
     ]
    }
   ],
   "source": [
    "#print the text:\n",
    "print(text)\n",
    "print(\"\\n\")"
   ]
  },
  {
   "cell_type": "code",
   "execution_count": 6,
   "id": "cebebd4c",
   "metadata": {},
   "outputs": [
    {
     "name": "stdout",
     "output_type": "stream",
     "text": [
      "Once upon a time there was an old mother pig who had three little pigs and not enough food to feed them. So when they were old enough, she sent them out into the world to seek their fortunes.\n",
      "\n",
      "The first little pig was very lazy. He didn't want to work at all and he built his house out of straw. The second little pig worked a little bit harder but he was somewhat lazy too and he built his house out of sticks. Then, they sang and danced and played together the rest of the day.\n",
      "\n",
      "The third little pig worked hard all day and built his house with bricks. It was a sturdy house complete with a fine fireplace and chimney. It looked like it could withstand the strongest winds.\n",
      "\n",
      "The next day, a wolf happened to pass by the lane where the three little pigs lived; and he saw the straw house, and he smelled the pig inside. He thought the pig would make a mighty fine meal and his mouth began to water.\n"
     ]
    }
   ],
   "source": [
    "print(text)"
   ]
  },
  {
   "cell_type": "code",
   "execution_count": 7,
   "id": "6e716500",
   "metadata": {},
   "outputs": [
    {
     "name": "stdout",
     "output_type": "stream",
     "text": [
      "899\n"
     ]
    }
   ],
   "source": [
    "#length of the text:\n",
    "print(len(text))"
   ]
  },
  {
   "cell_type": "code",
   "execution_count": 8,
   "id": "be2aec12",
   "metadata": {},
   "outputs": [],
   "source": [
    "#import required libraries:\n",
    "import nltk\n",
    "from nltk import sent_tokenize\n",
    "from nltk import word_tokenize"
   ]
  },
  {
   "cell_type": "markdown",
   "id": "3993f755",
   "metadata": {},
   "source": [
    "sentence tokenizing"
   ]
  },
  {
   "cell_type": "code",
   "execution_count": 9,
   "id": "908e831f",
   "metadata": {},
   "outputs": [],
   "source": [
    "#tokenize the text by sentence: \n",
    "sentences = sent_tokenize(text)\n"
   ]
  },
  {
   "cell_type": "code",
   "execution_count": 10,
   "id": "f1f77c4f",
   "metadata": {},
   "outputs": [
    {
     "name": "stdout",
     "output_type": "stream",
     "text": [
      "11\n"
     ]
    }
   ],
   "source": [
    "#how many sentences are there?:\n",
    "print(len(sentences))"
   ]
  },
  {
   "cell_type": "code",
   "execution_count": 11,
   "id": "c3c8ac6b",
   "metadata": {},
   "outputs": [
    {
     "data": {
      "text/plain": [
       "['Once upon a time there was an old mother pig who had three little pigs and not enough food to feed them.',\n",
       " 'So when they were old enough, she sent them out into the world to seek their fortunes.',\n",
       " 'The first little pig was very lazy.',\n",
       " \"He didn't want to work at all and he built his house out of straw.\",\n",
       " 'The second little pig worked a little bit harder but he was somewhat lazy too and he built his house out of sticks.',\n",
       " 'Then, they sang and danced and played together the rest of the day.',\n",
       " 'The third little pig worked hard all day and built his house with bricks.',\n",
       " 'It was a sturdy house complete with a fine fireplace and chimney.',\n",
       " 'It looked like it could withstand the strongest winds.',\n",
       " 'The next day, a wolf happened to pass by the lane where the three little pigs lived; and he saw the straw house, and he smelled the pig inside.',\n",
       " 'He thought the pig would make a mighty fine meal and his mouth began to water.']"
      ]
     },
     "execution_count": 11,
     "metadata": {},
     "output_type": "execute_result"
    }
   ],
   "source": [
    "#print the sentences:\n",
    "#print(sentences)\n",
    "sentences"
   ]
  },
  {
   "cell_type": "markdown",
   "id": "9909ce3a",
   "metadata": {},
   "source": [
    "word tokenize"
   ]
  },
  {
   "cell_type": "code",
   "execution_count": 12,
   "id": "b700d1b8",
   "metadata": {},
   "outputs": [],
   "source": [
    "#tokenize the text with words:\n",
    "word = word_tokenize(text)"
   ]
  },
  {
   "cell_type": "code",
   "execution_count": 13,
   "id": "945f9e3e",
   "metadata": {},
   "outputs": [
    {
     "name": "stdout",
     "output_type": "stream",
     "text": [
      "194\n"
     ]
    }
   ],
   "source": [
    "#how many word are there?:\n",
    "print(len(word))"
   ]
  },
  {
   "cell_type": "code",
   "execution_count": 14,
   "id": "67d3aacb",
   "metadata": {},
   "outputs": [
    {
     "name": "stdout",
     "output_type": "stream",
     "text": [
      "['Once', 'upon', 'a', 'time', 'there', 'was', 'an', 'old', 'mother', 'pig', 'who', 'had', 'three', 'little', 'pigs', 'and', 'not', 'enough', 'food', 'to', 'feed', 'them', '.', 'So', 'when', 'they', 'were', 'old', 'enough', ',', 'she', 'sent', 'them', 'out', 'into', 'the', 'world', 'to', 'seek', 'their', 'fortunes', '.', 'The', 'first', 'little', 'pig', 'was', 'very', 'lazy', '.', 'He', 'did', \"n't\", 'want', 'to', 'work', 'at', 'all', 'and', 'he', 'built', 'his', 'house', 'out', 'of', 'straw', '.', 'The', 'second', 'little', 'pig', 'worked', 'a', 'little', 'bit', 'harder', 'but', 'he', 'was', 'somewhat', 'lazy', 'too', 'and', 'he', 'built', 'his', 'house', 'out', 'of', 'sticks', '.', 'Then', ',', 'they', 'sang', 'and', 'danced', 'and', 'played', 'together', 'the', 'rest', 'of', 'the', 'day', '.', 'The', 'third', 'little', 'pig', 'worked', 'hard', 'all', 'day', 'and', 'built', 'his', 'house', 'with', 'bricks', '.', 'It', 'was', 'a', 'sturdy', 'house', 'complete', 'with', 'a', 'fine', 'fireplace', 'and', 'chimney', '.', 'It', 'looked', 'like', 'it', 'could', 'withstand', 'the', 'strongest', 'winds', '.', 'The', 'next', 'day', ',', 'a', 'wolf', 'happened', 'to', 'pass', 'by', 'the', 'lane', 'where', 'the', 'three', 'little', 'pigs', 'lived', ';', 'and', 'he', 'saw', 'the', 'straw', 'house', ',', 'and', 'he', 'smelled', 'the', 'pig', 'inside', '.', 'He', 'thought', 'the', 'pig', 'would', 'make', 'a', 'mighty', 'fine', 'meal', 'and', 'his', 'mouth', 'began', 'to', 'water', '.']\n"
     ]
    }
   ],
   "source": [
    "#print word:\n",
    "print(word)"
   ]
  },
  {
   "cell_type": "markdown",
   "id": "3f26d226",
   "metadata": {},
   "source": [
    "# finding frequency diststibution"
   ]
  },
  {
   "cell_type": "code",
   "execution_count": 15,
   "id": "eeebe81a",
   "metadata": {},
   "outputs": [],
   "source": [
    "# import required libraries\n",
    "from nltk.probability import FreqDist"
   ]
  },
  {
   "cell_type": "code",
   "execution_count": 16,
   "id": "ba29b78e",
   "metadata": {},
   "outputs": [],
   "source": [
    "#find the frequency\n",
    "fdist = FreqDist(word)"
   ]
  },
  {
   "cell_type": "code",
   "execution_count": 17,
   "id": "3660edfb",
   "metadata": {},
   "outputs": [
    {
     "data": {
      "text/plain": [
       "[('.', 11),\n",
       " ('and', 10),\n",
       " ('the', 9),\n",
       " ('a', 6),\n",
       " ('pig', 6),\n",
       " ('little', 6),\n",
       " ('to', 5),\n",
       " ('he', 5),\n",
       " ('house', 5),\n",
       " ('was', 4)]"
      ]
     },
     "execution_count": 17,
     "metadata": {},
     "output_type": "execute_result"
    }
   ],
   "source": [
    "#print 10 most common words\n",
    "fdist.most_common(10)"
   ]
  },
  {
   "cell_type": "markdown",
   "id": "0724dff9",
   "metadata": {},
   "source": [
    "plotting frequency graph"
   ]
  },
  {
   "cell_type": "code",
   "execution_count": 18,
   "id": "95be7568",
   "metadata": {},
   "outputs": [],
   "source": [
    "#plot the graph for fdist \n",
    "#import matplotlib.pyplot as plt"
   ]
  },
  {
   "cell_type": "code",
   "execution_count": 19,
   "id": "0309bb08",
   "metadata": {},
   "outputs": [
    {
     "data": {
      "image/png": "[encoded data removed]",
      "text/plain": [
       "<Figure size 640x480 with 1 Axes>"
      ]
     },
     "metadata": {},
     "output_type": "display_data"
    },
    {
     "data": {
      "text/plain": [
       "<AxesSubplot:xlabel='Samples', ylabel='Counts'>"
      ]
     },
     "execution_count": 19,
     "metadata": {},
     "output_type": "execute_result"
    }
   ],
   "source": [
    "fdist.plot(10)"
   ]
  },
  {
   "cell_type": "code",
   "execution_count": 20,
   "id": "8f294409",
   "metadata": {},
   "outputs": [
    {
     "data": {
      "image/png": "[encoded data removed]",
      "text/plain": [
       "<Figure size 640x480 with 1 Axes>"
      ]
     },
     "metadata": {},
     "output_type": "display_data"
    },
    {
     "data": {
      "text/plain": [
       "<AxesSubplot:xlabel='Samples', ylabel='Counts'>"
      ]
     },
     "execution_count": 20,
     "metadata": {},
     "output_type": "execute_result"
    }
   ],
   "source": [
    "fdist.plot(20)"
   ]
  },
  {
   "cell_type": "markdown",
   "id": "e263b901",
   "metadata": {},
   "source": [
    "removing punctuation"
   ]
  },
  {
   "cell_type": "code",
   "execution_count": 21,
   "id": "36104207",
   "metadata": {},
   "outputs": [],
   "source": [
    "#empty list to store words:\n",
    "words_no_punc=[]"
   ]
  },
  {
   "cell_type": "code",
   "execution_count": 22,
   "id": "a499e73c",
   "metadata": {},
   "outputs": [],
   "source": [
    "#removing punctuation marks:\n",
    "for w in word :\n",
    "    if w.isalpha():\n",
    "        words_no_punc.append(w.lower())"
   ]
  },
  {
   "cell_type": "code",
   "execution_count": 23,
   "id": "bd8d0671",
   "metadata": {},
   "outputs": [
    {
     "name": "stdout",
     "output_type": "stream",
     "text": [
      "['once', 'upon', 'a', 'time', 'there', 'was', 'an', 'old', 'mother', 'pig', 'who', 'had', 'three', 'little', 'pigs', 'and', 'not', 'enough', 'food', 'to', 'feed', 'them', 'so', 'when', 'they', 'were', 'old', 'enough', 'she', 'sent', 'them', 'out', 'into', 'the', 'world', 'to', 'seek', 'their', 'fortunes', 'the', 'first', 'little', 'pig', 'was', 'very', 'lazy', 'he', 'did', 'want', 'to', 'work', 'at', 'all', 'and', 'he', 'built', 'his', 'house', 'out', 'of', 'straw', 'the', 'second', 'little', 'pig', 'worked', 'a', 'little', 'bit', 'harder', 'but', 'he', 'was', 'somewhat', 'lazy', 'too', 'and', 'he', 'built', 'his', 'house', 'out', 'of', 'sticks', 'then', 'they', 'sang', 'and', 'danced', 'and', 'played', 'together', 'the', 'rest', 'of', 'the', 'day', 'the', 'third', 'little', 'pig', 'worked', 'hard', 'all', 'day', 'and', 'built', 'his', 'house', 'with', 'bricks', 'it', 'was', 'a', 'sturdy', 'house', 'complete', 'with', 'a', 'fine', 'fireplace', 'and', 'chimney', 'it', 'looked', 'like', 'it', 'could', 'withstand', 'the', 'strongest', 'winds', 'the', 'next', 'day', 'a', 'wolf', 'happened', 'to', 'pass', 'by', 'the', 'lane', 'where', 'the', 'three', 'little', 'pigs', 'lived', 'and', 'he', 'saw', 'the', 'straw', 'house', 'and', 'he', 'smelled', 'the', 'pig', 'inside', 'he', 'thought', 'the', 'pig', 'would', 'make', 'a', 'mighty', 'fine', 'meal', 'and', 'his', 'mouth', 'began', 'to', 'water']\n",
      "/n\n"
     ]
    }
   ],
   "source": [
    "#print the words without punctution marks\n",
    "print (words_no_punc)\n",
    "print(\"/n\")"
   ]
  },
  {
   "cell_type": "code",
   "execution_count": 24,
   "id": "048b15c3",
   "metadata": {},
   "outputs": [
    {
     "name": "stdout",
     "output_type": "stream",
     "text": [
      "177\n"
     ]
    }
   ],
   "source": [
    "#length:\n",
    "print (len(words_no_punc))"
   ]
  },
  {
   "cell_type": "markdown",
   "id": "6eae2d95",
   "metadata": {},
   "source": [
    "plotting count graph without punctuations"
   ]
  },
  {
   "cell_type": "code",
   "execution_count": 25,
   "id": "97bdbc18",
   "metadata": {},
   "outputs": [
    {
     "data": {
      "text/plain": [
       "[('the', 13),\n",
       " ('and', 10),\n",
       " ('he', 7),\n",
       " ('a', 6),\n",
       " ('pig', 6),\n",
       " ('little', 6),\n",
       " ('to', 5),\n",
       " ('house', 5),\n",
       " ('was', 4),\n",
       " ('his', 4)]"
      ]
     },
     "execution_count": 25,
     "metadata": {},
     "output_type": "execute_result"
    }
   ],
   "source": [
    "#frequancy distribution\n",
    "fdist = FreqDist(words_no_punc)\n",
    "fdist.most_common(10)"
   ]
  },
  {
   "cell_type": "code",
   "execution_count": 26,
   "id": "40edb7fb",
   "metadata": {},
   "outputs": [
    {
     "data": {
      "image/png": "[encoded data removed]",
      "text/plain": [
       "<Figure size 640x480 with 1 Axes>"
      ]
     },
     "metadata": {},
     "output_type": "display_data"
    },
    {
     "data": {
      "text/plain": [
       "<AxesSubplot:xlabel='Samples', ylabel='Counts'>"
      ]
     },
     "execution_count": 26,
     "metadata": {},
     "output_type": "execute_result"
    }
   ],
   "source": [
    "#PLOT the most common word on grpah\n",
    "fdist.plot(10)"
   ]
  },
  {
   "cell_type": "markdown",
   "id": "edeaedae",
   "metadata": {},
   "source": [
    "#list of stopwords"
   ]
  },
  {
   "cell_type": "code",
   "execution_count": 27,
   "id": "0b6c66ee",
   "metadata": {},
   "outputs": [
    {
     "name": "stderr",
     "output_type": "stream",
     "text": [
      "[nltk_data] Downloading package stopwords to\n",
      "[nltk_data]     C:\\Users\\admin\\AppData\\Roaming\\nltk_data...\n",
      "[nltk_data]   Package stopwords is already up-to-date!\n"
     ]
    },
    {
     "data": {
      "text/plain": [
       "True"
      ]
     },
     "execution_count": 27,
     "metadata": {},
     "output_type": "execute_result"
    }
   ],
   "source": [
    "from nltk.corpus import stopwords\n",
    "nltk.download(\"stopwords\")"
   ]
  },
  {
   "cell_type": "code",
   "execution_count": 28,
   "id": "e59d566d",
   "metadata": {},
   "outputs": [
    {
     "name": "stdout",
     "output_type": "stream",
     "text": [
      "['au', 'aux', 'avec', 'ce', 'ces', 'dans', 'de', 'des', 'du', 'elle', 'en', 'et', 'eux', 'il', 'ils', 'je', 'la', 'le', 'les', 'leur', 'lui', 'ma', 'mais', 'me', 'même', 'mes', 'moi', 'mon', 'ne', 'nos', 'notre', 'nous', 'on', 'ou', 'par', 'pas', 'pour', 'qu', 'que', 'qui', 'sa', 'se', 'ses', 'son', 'sur', 'ta', 'te', 'tes', 'toi', 'ton', 'tu', 'un', 'une', 'vos', 'votre', 'vous', 'c', 'd', 'j', 'l', 'à', 'm', 'n', 's', 't', 'y', 'été', 'étée', 'étées', 'étés', 'étant', 'étante', 'étants', 'étantes', 'suis', 'es', 'est', 'sommes', 'êtes', 'sont', 'serai', 'seras', 'sera', 'serons', 'serez', 'seront', 'serais', 'serait', 'serions', 'seriez', 'seraient', 'étais', 'était', 'étions', 'étiez', 'étaient', 'fus', 'fut', 'fûmes', 'fûtes', 'furent', 'sois', 'soit', 'soyons', 'soyez', 'soient', 'fusse', 'fusses', 'fût', 'fussions', 'fussiez', 'fussent', 'ayant', 'ayante', 'ayantes', 'ayants', 'eu', 'eue', 'eues', 'eus', 'ai', 'as', 'avons', 'avez', 'ont', 'aurai', 'auras', 'aura', 'aurons', 'aurez', 'auront', 'aurais', 'aurait', 'aurions', 'auriez', 'auraient', 'avais', 'avait', 'avions', 'aviez', 'avaient', 'eut', 'eûmes', 'eûtes', 'eurent', 'aie', 'aies', 'ait', 'ayons', 'ayez', 'aient', 'eusse', 'eusses', 'eût', 'eussions', 'eussiez', 'eussent']\n"
     ]
    }
   ],
   "source": [
    "#list of stopword\n",
    "stopword = stopwords.words(\"french\")\n",
    "print(stopword)"
   ]
  },
  {
   "cell_type": "code",
   "execution_count": 29,
   "id": "90106c8b",
   "metadata": {},
   "outputs": [
    {
     "name": "stdout",
     "output_type": "stream",
     "text": [
      "['i', 'me', 'my', 'myself', 'we', 'our', 'ours', 'ourselves', 'you', \"you're\", \"you've\", \"you'll\", \"you'd\", 'your', 'yours', 'yourself', 'yourselves', 'he', 'him', 'his', 'himself', 'she', \"she's\", 'her', 'hers', 'herself', 'it', \"it's\", 'its', 'itself', 'they', 'them', 'their', 'theirs', 'themselves', 'what', 'which', 'who', 'whom', 'this', 'that', \"that'll\", 'these', 'those', 'am', 'is', 'are', 'was', 'were', 'be', 'been', 'being', 'have', 'has', 'had', 'having', 'do', 'does', 'did', 'doing', 'a', 'an', 'the', 'and', 'but', 'if', 'or', 'because', 'as', 'until', 'while', 'of', 'at', 'by', 'for', 'with', 'about', 'against', 'between', 'into', 'through', 'during', 'before', 'after', 'above', 'below', 'to', 'from', 'up', 'down', 'in', 'out', 'on', 'off', 'over', 'under', 'again', 'further', 'then', 'once', 'here', 'there', 'when', 'where', 'why', 'how', 'all', 'any', 'both', 'each', 'few', 'more', 'most', 'other', 'some', 'such', 'no', 'nor', 'not', 'only', 'own', 'same', 'so', 'than', 'too', 'very', 's', 't', 'can', 'will', 'just', 'don', \"don't\", 'should', \"should've\", 'now', 'd', 'll', 'm', 'o', 're', 've', 'y', 'ain', 'aren', \"aren't\", 'couldn', \"couldn't\", 'didn', \"didn't\", 'doesn', \"doesn't\", 'hadn', \"hadn't\", 'hasn', \"hasn't\", 'haven', \"haven't\", 'isn', \"isn't\", 'ma', 'mightn', \"mightn't\", 'mustn', \"mustn't\", 'needn', \"needn't\", 'shan', \"shan't\", 'shouldn', \"shouldn't\", 'wasn', \"wasn't\", 'weren', \"weren't\", 'won', \"won't\", 'wouldn', \"wouldn't\"]\n"
     ]
    }
   ],
   "source": [
    "#list of stopword\n",
    "stopword = stopwords.words(\"english\")\n",
    "print(stopword)"
   ]
  },
  {
   "cell_type": "markdown",
   "id": "3b446a0d",
   "metadata": {},
   "source": [
    "removing stopwords"
   ]
  },
  {
   "cell_type": "code",
   "execution_count": 30,
   "id": "b9ba27bc",
   "metadata": {},
   "outputs": [
    {
     "name": "stdout",
     "output_type": "stream",
     "text": [
      "['upon', 'time', 'old', 'mother', 'pig', 'three', 'little', 'pigs', 'enough', 'food', 'feed', 'old', 'enough', 'sent', 'world', 'seek', 'fortunes', 'first', 'little', 'pig', 'lazy', 'want', 'work', 'built', 'house', 'straw', 'second', 'little', 'pig', 'worked', 'little', 'bit', 'harder', 'somewhat', 'lazy', 'built', 'house', 'sticks', 'sang', 'danced', 'played', 'together', 'rest', 'day', 'third', 'little', 'pig', 'worked', 'hard', 'day', 'built', 'house', 'bricks', 'sturdy', 'house', 'complete', 'fine', 'fireplace', 'chimney', 'looked', 'like', 'could', 'withstand', 'strongest', 'winds', 'next', 'day', 'wolf', 'happened', 'pass', 'lane', 'three', 'little', 'pigs', 'lived', 'saw', 'straw', 'house', 'smelled', 'pig', 'inside', 'thought', 'pig', 'would', 'make', 'mighty', 'fine', 'meal', 'mouth', 'began', 'water']\n",
      "/n\n"
     ]
    }
   ],
   "source": [
    "#empty list to store clean words\n",
    "clean_words = []\n",
    "for w in words_no_punc:\n",
    "    if w not in stopword:\n",
    "        clean_words.append(w)\n",
    "print(clean_words)\n",
    "print(\"/n\")"
   ]
  },
  {
   "cell_type": "code",
   "execution_count": 31,
   "id": "b028a009",
   "metadata": {},
   "outputs": [
    {
     "name": "stdout",
     "output_type": "stream",
     "text": [
      "91\n"
     ]
    }
   ],
   "source": [
    "print(len(clean_words))"
   ]
  },
  {
   "cell_type": "markdown",
   "id": "02ea9a80",
   "metadata": {},
   "source": [
    "final  frequency distribution"
   ]
  },
  {
   "cell_type": "code",
   "execution_count": 32,
   "id": "baf1bd12",
   "metadata": {},
   "outputs": [
    {
     "data": {
      "text/plain": [
       "[('pig', 6),\n",
       " ('little', 6),\n",
       " ('house', 5),\n",
       " ('built', 3),\n",
       " ('day', 3),\n",
       " ('old', 2),\n",
       " ('three', 2),\n",
       " ('pigs', 2),\n",
       " ('enough', 2),\n",
       " ('lazy', 2)]"
      ]
     },
     "execution_count": 32,
     "metadata": {},
     "output_type": "execute_result"
    }
   ],
   "source": [
    "#frequency distribution\n",
    "fdist = FreqDist(clean_words)\n",
    "fdist.most_common(10)"
   ]
  },
  {
   "cell_type": "code",
   "execution_count": 33,
   "id": "e14a86aa",
   "metadata": {},
   "outputs": [
    {
     "data": {
      "image/png": "[encoded data removed]",
      "text/plain": [
       "<Figure size 640x480 with 1 Axes>"
      ]
     },
     "metadata": {},
     "output_type": "display_data"
    },
    {
     "data": {
      "text/plain": [
       "<AxesSubplot:xlabel='Samples', ylabel='Counts'>"
      ]
     },
     "execution_count": 33,
     "metadata": {},
     "output_type": "execute_result"
    }
   ],
   "source": [
    "#plot the most common words on grpah\n",
    "fdist.plot(10)"
   ]
  },
  {
   "cell_type": "markdown",
   "id": "07b48fd2",
   "metadata": {},
   "source": [
    "# stemming"
   ]
  },
  {
   "cell_type": "markdown",
   "id": "714b106c",
   "metadata": {},
   "source": [
    "porter stemmer"
   ]
  },
  {
   "cell_type": "code",
   "execution_count": 34,
   "id": "a1253f85",
   "metadata": {},
   "outputs": [
    {
     "name": "stdout",
     "output_type": "stream",
     "text": [
      "studi\n",
      "studi\n",
      "studi\n",
      "studi\n"
     ]
    }
   ],
   "source": [
    "#stemming example\n",
    "#import stemming library\n",
    "from nltk.stem import PorterStemmer\n",
    "porter = PorterStemmer()\n",
    "#word list for stemming\n",
    "word_list = [\"study\",\"studying\",\"studies\",\"studied\"]\n",
    "for w in word_list:\n",
    "    print(porter.stem(w))"
   ]
  },
  {
   "cell_type": "code",
   "execution_count": 35,
   "id": "859321b5",
   "metadata": {},
   "outputs": [
    {
     "name": "stdout",
     "output_type": "stream",
     "text": [
      "studi\n",
      "studi\n",
      "studi\n",
      "studi\n"
     ]
    }
   ],
   "source": [
    "from nltk.stem import PorterStemmer\n",
    "#word list for stemming\n",
    "word_list = [\"study\",\"studying\",\"studies\",\"studied\"]\n",
    "for w in word_list:\n",
    "    print(porter.stem(w))"
   ]
  },
  {
   "cell_type": "code",
   "execution_count": 36,
   "id": "adf43f50",
   "metadata": {},
   "outputs": [
    {
     "name": "stdout",
     "output_type": "stream",
     "text": [
      "upon\n",
      "time\n",
      "old\n",
      "mother\n",
      "pig\n",
      "three\n",
      "littl\n",
      "pig\n",
      "enough\n",
      "food\n",
      "feed\n",
      "old\n",
      "enough\n",
      "sent\n",
      "world\n",
      "seek\n",
      "fortun\n",
      "first\n",
      "littl\n",
      "pig\n",
      "lazi\n",
      "want\n",
      "work\n",
      "built\n",
      "hous\n",
      "straw\n",
      "second\n",
      "littl\n",
      "pig\n",
      "work\n",
      "littl\n",
      "bit\n",
      "harder\n",
      "somewhat\n",
      "lazi\n",
      "built\n",
      "hous\n",
      "stick\n",
      "sang\n",
      "danc\n",
      "play\n",
      "togeth\n",
      "rest\n",
      "day\n",
      "third\n",
      "littl\n",
      "pig\n",
      "work\n",
      "hard\n",
      "day\n",
      "built\n",
      "hous\n",
      "brick\n",
      "sturdi\n",
      "hous\n",
      "complet\n",
      "fine\n",
      "fireplac\n",
      "chimney\n",
      "look\n",
      "like\n",
      "could\n",
      "withstand\n",
      "strongest\n",
      "wind\n",
      "next\n",
      "day\n",
      "wolf\n",
      "happen\n",
      "pass\n",
      "lane\n",
      "three\n",
      "littl\n",
      "pig\n",
      "live\n",
      "saw\n",
      "straw\n",
      "hous\n",
      "smell\n",
      "pig\n",
      "insid\n",
      "thought\n",
      "pig\n",
      "would\n",
      "make\n",
      "mighti\n",
      "fine\n",
      "meal\n",
      "mouth\n",
      "began\n",
      "water\n"
     ]
    }
   ],
   "source": [
    "from nltk.stem import PorterStemmer\n",
    "porter = PorterStemmer()\n",
    "for w in clean_words:\n",
    "    print(porter.stem(w))"
   ]
  },
  {
   "cell_type": "markdown",
   "id": "8eff2d7f",
   "metadata": {},
   "source": [
    "snowball stemming"
   ]
  },
  {
   "cell_type": "code",
   "execution_count": 37,
   "id": "ef90592a",
   "metadata": {},
   "outputs": [],
   "source": [
    "#stemming example\n",
    "#import stemming library\n",
    "from nltk.stem import SnowballStemmer\n",
    "snowball = SnowballStemmer(\"english\")"
   ]
  },
  {
   "cell_type": "code",
   "execution_count": 38,
   "id": "3b4dcac5",
   "metadata": {},
   "outputs": [
    {
     "name": "stdout",
     "output_type": "stream",
     "text": [
      "studi\n",
      "studi\n",
      "studi\n",
      "studi\n"
     ]
    }
   ],
   "source": [
    "#word list for stemming\n",
    "word_list = [\"study\",\"studying\",\"studies\",\"studied\"]\n",
    "for w in word_list :\n",
    "    print(snowball.stem(w))"
   ]
  },
  {
   "cell_type": "markdown",
   "id": "3cfe6c68",
   "metadata": {},
   "source": [
    "lemmatizer"
   ]
  },
  {
   "cell_type": "code",
   "execution_count": 39,
   "id": "676be5c0",
   "metadata": {},
   "outputs": [
    {
     "name": "stderr",
     "output_type": "stream",
     "text": [
      "[nltk_data] Downloading package omw-1.4 to\n",
      "[nltk_data]     C:\\Users\\admin\\AppData\\Roaming\\nltk_data...\n",
      "[nltk_data]   Package omw-1.4 is already up-to-date!\n"
     ]
    },
    {
     "data": {
      "text/plain": [
       "True"
      ]
     },
     "execution_count": 39,
     "metadata": {},
     "output_type": "execute_result"
    }
   ],
   "source": [
    "from nltk import WordNetLemmatizer\n",
    "import nltk\n",
    "nltk.download('omw-1.4')"
   ]
  },
  {
   "cell_type": "code",
   "execution_count": 40,
   "id": "2caf6940",
   "metadata": {},
   "outputs": [
    {
     "name": "stdout",
     "output_type": "stream",
     "text": [
      "study\n",
      "study\n",
      "study\n",
      "study\n"
     ]
    }
   ],
   "source": [
    "lemma=WordNetLemmatizer()\n",
    "word_list=[\"studying\",\"study\",\"studies\",\"studied\"]\n",
    "for w in word_list:\n",
    "    print(lemma.lemmatize(w,pos= \"v\"))"
   ]
  },
  {
   "cell_type": "code",
   "execution_count": 41,
   "id": "bdee5fe7",
   "metadata": {},
   "outputs": [
    {
     "name": "stdout",
     "output_type": "stream",
     "text": [
      "upon\n",
      "time\n",
      "old\n",
      "mother\n",
      "pig\n",
      "three\n",
      "little\n",
      "pig\n",
      "enough\n",
      "food\n",
      "fee\n",
      "old\n",
      "enough\n",
      "send\n",
      "world\n",
      "seek\n",
      "fortunes\n",
      "first\n",
      "little\n",
      "pig\n",
      "lazy\n",
      "want\n",
      "work\n",
      "build\n",
      "house\n",
      "straw\n",
      "second\n",
      "little\n",
      "pig\n",
      "work\n",
      "little\n",
      "bite\n",
      "harder\n",
      "somewhat\n",
      "lazy\n",
      "build\n",
      "house\n",
      "stick\n",
      "sing\n",
      "dance\n",
      "play\n",
      "together\n",
      "rest\n",
      "day\n",
      "third\n",
      "little\n",
      "pig\n",
      "work\n",
      "hard\n",
      "day\n",
      "build\n",
      "house\n",
      "bricks\n",
      "sturdy\n",
      "house\n",
      "complete\n",
      "fine\n",
      "fireplace\n",
      "chimney\n",
      "look\n",
      "like\n",
      "could\n",
      "withstand\n",
      "strongest\n",
      "wind\n",
      "next\n",
      "day\n",
      "wolf\n",
      "happen\n",
      "pass\n",
      "lane\n",
      "three\n",
      "little\n",
      "pig\n",
      "live\n",
      "saw\n",
      "straw\n",
      "house\n",
      "smell\n",
      "pig\n",
      "inside\n",
      "think\n",
      "pig\n",
      "would\n",
      "make\n",
      "mighty\n",
      "fine\n",
      "meal\n",
      "mouth\n",
      "begin\n",
      "water\n"
     ]
    }
   ],
   "source": [
    "\n",
    "for w in clean_words:\n",
    "    print(lemma.lemmatize(w,pos= \"v\"))"
   ]
  },
  {
   "cell_type": "code",
   "execution_count": 42,
   "id": "8a3c42b4",
   "metadata": {},
   "outputs": [
    {
     "name": "stdout",
     "output_type": "stream",
     "text": [
      "upon\n",
      "time\n",
      "old\n",
      "mother\n",
      "pig\n",
      "three\n",
      "little\n",
      "pig\n",
      "enough\n",
      "food\n",
      "feed\n",
      "old\n",
      "enough\n",
      "sent\n",
      "world\n",
      "seek\n",
      "fortune\n",
      "first\n",
      "little\n",
      "pig\n",
      "lazy\n",
      "want\n",
      "work\n",
      "built\n",
      "house\n",
      "straw\n",
      "second\n",
      "little\n",
      "pig\n",
      "worked\n",
      "little\n",
      "bit\n",
      "harder\n",
      "somewhat\n",
      "lazy\n",
      "built\n",
      "house\n",
      "stick\n",
      "sang\n",
      "danced\n",
      "played\n",
      "together\n",
      "rest\n",
      "day\n",
      "third\n",
      "little\n",
      "pig\n",
      "worked\n",
      "hard\n",
      "day\n",
      "built\n",
      "house\n",
      "brick\n",
      "sturdy\n",
      "house\n",
      "complete\n",
      "fine\n",
      "fireplace\n",
      "chimney\n",
      "looked\n",
      "like\n",
      "could\n",
      "withstand\n",
      "strongest\n",
      "wind\n",
      "next\n",
      "day\n",
      "wolf\n",
      "happened\n",
      "pas\n",
      "lane\n",
      "three\n",
      "little\n",
      "pig\n",
      "lived\n",
      "saw\n",
      "straw\n",
      "house\n",
      "smelled\n",
      "pig\n",
      "inside\n",
      "thought\n",
      "pig\n",
      "would\n",
      "make\n",
      "mighty\n",
      "fine\n",
      "meal\n",
      "mouth\n",
      "began\n",
      "water\n"
     ]
    }
   ],
   "source": [
    "for w in clean_words:\n",
    "    print(lemma.lemmatize(w))"
   ]
  },
  {
   "cell_type": "markdown",
   "id": "62b007d0",
   "metadata": {},
   "source": [
    "# bag of words"
   ]
  },
  {
   "cell_type": "code",
   "execution_count": 43,
   "id": "d681500c",
   "metadata": {},
   "outputs": [],
   "source": [
    "#import reuried libraries\n",
    "from sklearn.feature_extraction.text import CountVectorizer"
   ]
  },
  {
   "cell_type": "code",
   "execution_count": 44,
   "id": "9dbab99c",
   "metadata": {},
   "outputs": [],
   "source": [
    "#text for analysis\n",
    "sentences = [\"jim and Pam travelled by the bus:\",\n",
    "            \"The train was late\",\n",
    "             \"The flight was full.travelling by flight is expensive\"]"
   ]
  },
  {
   "cell_type": "code",
   "execution_count": 45,
   "id": "c2a4dbdd",
   "metadata": {},
   "outputs": [],
   "source": [
    "#create an object:\n",
    "cv = CountVectorizer()"
   ]
  },
  {
   "cell_type": "code",
   "execution_count": 46,
   "id": "c292e091",
   "metadata": {},
   "outputs": [],
   "source": [
    "#generating output for bagwords\n",
    "b_O_W = cv.fit_transform(sentences).toarray()"
   ]
  },
  {
   "cell_type": "code",
   "execution_count": 47,
   "id": "bbb5106c",
   "metadata": {},
   "outputs": [
    {
     "name": "stdout",
     "output_type": "stream",
     "text": [
      "{'jim': 7, 'and': 0, 'pam': 9, 'travelled': 12, 'by': 2, 'the': 10, 'bus': 1, 'train': 11, 'was': 14, 'late': 8, 'flight': 4, 'full': 5, 'travelling': 13, 'is': 6, 'expensive': 3}\n"
     ]
    }
   ],
   "source": [
    "print(cv.vocabulary_)"
   ]
  },
  {
   "cell_type": "code",
   "execution_count": 49,
   "id": "be6d6884",
   "metadata": {},
   "outputs": [
    {
     "name": "stdout",
     "output_type": "stream",
     "text": [
      "['and' 'bus' 'by' 'expensive' 'flight' 'full' 'is' 'jim' 'late' 'pam'\n",
      " 'the' 'train' 'travelled' 'travelling' 'was']\n"
     ]
    }
   ],
   "source": [
    "print(cv.get_feature_names_out())"
   ]
  },
  {
   "cell_type": "code",
   "execution_count": null,
   "id": "62b57195",
   "metadata": {},
   "outputs": [],
   "source": [
    "print(b_O_W)"
   ]
  },
  {
   "cell_type": "code",
   "execution_count": 52,
   "id": "8fc754da",
   "metadata": {},
   "outputs": [],
   "source": [
    "b_O_W = cv.fit_transform(clean_words).toarray()"
   ]
  },
  {
   "cell_type": "code",
   "execution_count": 53,
   "id": "17b0eca4",
   "metadata": {},
   "outputs": [
    {
     "name": "stdout",
     "output_type": "stream",
     "text": [
      "{'upon': 55, 'time': 53, 'old': 33, 'mother': 30, 'pig': 35, 'three': 52, 'little': 24, 'pigs': 36, 'enough': 9, 'food': 14, 'feed': 10, 'sent': 43, 'world': 63, 'seek': 42, 'fortunes': 15, 'first': 13, 'lazy': 22, 'want': 56, 'work': 61, 'built': 3, 'house': 19, 'straw': 47, 'second': 41, 'worked': 62, 'bit': 1, 'harder': 18, 'somewhat': 45, 'sticks': 46, 'sang': 39, 'danced': 7, 'played': 37, 'together': 54, 'rest': 38, 'day': 8, 'third': 50, 'hard': 17, 'bricks': 2, 'sturdy': 49, 'complete': 5, 'fine': 11, 'fireplace': 12, 'chimney': 4, 'looked': 26, 'like': 23, 'could': 6, 'withstand': 59, 'strongest': 48, 'winds': 58, 'next': 32, 'wolf': 60, 'happened': 16, 'pass': 34, 'lane': 21, 'lived': 25, 'saw': 40, 'smelled': 44, 'inside': 20, 'thought': 51, 'would': 64, 'make': 27, 'mighty': 29, 'meal': 28, 'mouth': 31, 'began': 0, 'water': 57}\n",
      "/n\n"
     ]
    }
   ],
   "source": [
    "#total words with their index in model\n",
    "print(cv.vocabulary_)\n",
    "print(\"/n\")"
   ]
  },
  {
   "cell_type": "code",
   "execution_count": 54,
   "id": "bb2a021f",
   "metadata": {},
   "outputs": [
    {
     "name": "stdout",
     "output_type": "stream",
     "text": [
      "['began', 'bit', 'bricks', 'built', 'chimney', 'complete', 'could', 'danced', 'day', 'enough', 'feed', 'fine', 'fireplace', 'first', 'food', 'fortunes', 'happened', 'hard', 'harder', 'house', 'inside', 'lane', 'lazy', 'like', 'little', 'lived', 'looked', 'make', 'meal', 'mighty', 'mother', 'mouth', 'next', 'old', 'pass', 'pig', 'pigs', 'played', 'rest', 'sang', 'saw', 'second', 'seek', 'sent', 'smelled', 'somewhat', 'sticks', 'straw', 'strongest', 'sturdy', 'third', 'thought', 'three', 'time', 'together', 'upon', 'want', 'water', 'winds', 'withstand', 'wolf', 'work', 'worked', 'world', 'would']\n",
      "/n\n"
     ]
    }
   ],
   "source": [
    "#features\n",
    "print(cv.get_feature_names())\n",
    "print(\"/n\")"
   ]
  },
  {
   "cell_type": "code",
   "execution_count": 55,
   "id": "d29f17ce",
   "metadata": {},
   "outputs": [
    {
     "name": "stdout",
     "output_type": "stream",
     "text": [
      "[[0 0 0 ... 0 0 0]\n",
      " [0 0 0 ... 0 0 0]\n",
      " [0 0 0 ... 0 0 0]\n",
      " ...\n",
      " [0 0 0 ... 0 0 0]\n",
      " [1 0 0 ... 0 0 0]\n",
      " [0 0 0 ... 0 0 0]]\n"
     ]
    }
   ],
   "source": [
    "#show the output\n",
    "print(b_O_W)"
   ]
  },
  {
   "cell_type": "markdown",
   "id": "a62726fc",
   "metadata": {},
   "source": [
    "# cluster"
   ]
  },
  {
   "cell_type": "code",
   "execution_count": 56,
   "id": "bf7ac8f0",
   "metadata": {},
   "outputs": [],
   "source": [
    "from sklearn.feature_extraction.text import TfidfVectorizer\n",
    "from sklearn.cluster import KMeans"
   ]
  },
  {
   "cell_type": "code",
   "execution_count": 57,
   "id": "67ba1bb2",
   "metadata": {},
   "outputs": [],
   "source": [
    "vectorizer = TfidfVectorizer(stop_words = 'english')\n",
    "X = vectorizer.fit_transform(clean_words)"
   ]
  },
  {
   "cell_type": "code",
   "execution_count": 58,
   "id": "62b8c09e",
   "metadata": {},
   "outputs": [],
   "source": [
    "terms = vectorizer.get_feature_names()\n",
    "\n",
    "\n",
    "from sklearn.metrics.pairwise import cosine_similarity\n",
    "dist = 1- cosine_similarity(X)"
   ]
  },
  {
   "cell_type": "code",
   "execution_count": 60,
   "id": "a6fa3e08",
   "metadata": {},
   "outputs": [
    {
     "data": {
      "image/png": "[encoded data removed]",
      "text/plain": [
       "<Figure size 800x800 with 1 Axes>"
      ]
     },
     "metadata": {},
     "output_type": "display_data"
    }
   ],
   "source": [
    "import matplotlib.pyplot as plt\n",
    "from scipy.cluster.hierarchy import ward, dendrogram\n",
    "\n",
    "linkage_matrix = ward(dist)\n",
    "fig, ax = plt.subplots(figsize=(8, 8)) \n",
    "ax = dendrogram(linkage_matrix, orientation=\"right\", labels =clean_words );\n",
    "\n",
    "plt.tick_params(\\\n",
    "    axis= 'x',       \n",
    "    which='both',      \n",
    "    bottom='off',   \n",
    "    top='off',         \n",
    "    labelbottom='off')\n",
    "\n",
    "plt.tight_layout()"
   ]
  },
  {
   "cell_type": "code",
   "execution_count": null,
   "id": "d64ed43e",
   "metadata": {},
   "outputs": [],
   "source": []
  },
  {
   "cell_type": "code",
   "execution_count": null,
   "id": "9037cf66",
   "metadata": {},
   "outputs": [],
   "source": []
  },
  {
   "cell_type": "code",
   "execution_count": null,
   "id": "279c8028",
   "metadata": {},
   "outputs": [],
   "source": []
  },
  {
   "cell_type": "code",
   "execution_count": null,
   "id": "12449afd",
   "metadata": {},
   "outputs": [],
   "source": []
  }
 ],
 "metadata": {
  "kernelspec": {
   "display_name": "Python 3 (ipykernel)",
   "language": "python",
   "name": "python3"
  },
  "language_info": {
   "codemirror_mode": {
    "name": "ipython",
    "version": 3
   },
   "file_extension": ".py",
   "mimetype": "text/x-python",
   "name": "python",
   "nbconvert_exporter": "python",
   "pygments_lexer": "ipython3",
   "version": "3.9.13"
  }
 },
 "nbformat": 4,
 "nbformat_minor": 5
}
